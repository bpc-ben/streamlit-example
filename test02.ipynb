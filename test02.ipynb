{
 "cells": [
  {
   "cell_type": "code",
   "execution_count": 2,
   "metadata": {},
   "outputs": [],
   "source": [
    "from ben_funcs import load_wikipedia_info\n",
    "from db import add_data, get_data"
   ]
  },
  {
   "cell_type": "code",
   "execution_count": 5,
   "metadata": {},
   "outputs": [],
   "source": [
    "import pandas as pd\n",
    "df_brands = pd.DataFrame({\"name\": [\"\"],\n",
    "                     \"source\": [\"\"],\n",
    "                        \"data\": [\"\"]})\n",
    "\n",
    "\n",
    "df_brands.to_csv(\"brands.csv\", index=False)"
   ]
  },
  {
   "cell_type": "code",
   "execution_count": 37,
   "metadata": {},
   "outputs": [
    {
     "data": {
      "text/plain": [
       "\"Page: List of Eurovision Song Contest entries (2004–present)\\nSummary: Over 1,600 entries have been submitted into the Eurovision Song Contest since it began in 1956, comprising songs and artists which have represented fifty-two countries. The contest, organised by the European Broadcasting Union (EBU), is held annually between membears of the union, with participating broadcasters from different countries submitting songs to the event and casting votes to determine the most popular in the competition. From an original seven participating countries in the first edition, around forty entries are now regularly submitted into the competition every year.Principally open to active member broadcasters of the EBU, eligibility to participate in the contest is not determined by geographic inclusion within the traditional boundaries of Europe. Several countries from outside of Europe have previously submitted entries into the contest, including countries in Western Asia and North Africa, as well as transcontinental countries with only part of their territory in Europe. Australia, a country in Oceania, made its first contest appearance in 2015 when SBS, an EBU associate member broadcaster from the country, received an invitation to submit an entry to mark the contest's 60th anniversary.Each year a date is typically set by which time broadcasters may announce to the EBU their intent to participate in the contest, which can be revoked condition-free up to this deadline date. However on several occasions over its history, entries which had been submitted into the contest by the participating broadcasters following the cut-off date, or which were planned to be submitted, have subsequently not gone ahead. This can occur for varying reasons, including disqualification for breaking the rules of the contest or through withdrawal by the broadcasters themselves. On a number of occasions participation has also been suggested or attempted in countries which are precluded from entering the contest, due to a lack of EBU member broadcaster or for other reasons.Germany has made the most contest appearances, participating in all but one event since its founding. Morocco conversely has participated the fewest times, competing only once in 1980. As of 2023, Ireland and Sweden both hold the record for the most victories, having won the contest seven times, including four Irish wins in the 1990s. In addition to its five contest wins, the United Kingdom has also placed second sixteen times – more than any other country – and also holds the record for the most consecutive contest appearances, competing in every edition since 1959. Although it has also achieved three contest wins, Norway holds the record for the most last-place finishes in contest history, having featured at the bottom of the scoreboard eleven times as of 2023.\""
      ]
     },
     "execution_count": 37,
     "metadata": {},
     "output_type": "execute_result"
    }
   ],
   "source": [
    "\n",
    "brand_name = \"Teva TV-1106\"\n",
    "load_wikipedia_info(brand_name)"
   ]
  },
  {
   "cell_type": "code",
   "execution_count": 38,
   "metadata": {},
   "outputs": [
    {
     "name": "stdout",
     "output_type": "stream",
     "text": [
      "name\n",
      "source\n",
      "data\n"
     ]
    },
    {
     "data": {
      "text/html": [
       "<div>\n",
       "<style scoped>\n",
       "    .dataframe tbody tr th:only-of-type {\n",
       "        vertical-align: middle;\n",
       "    }\n",
       "\n",
       "    .dataframe tbody tr th {\n",
       "        vertical-align: top;\n",
       "    }\n",
       "\n",
       "    .dataframe thead th {\n",
       "        text-align: right;\n",
       "    }\n",
       "</style>\n",
       "<table border=\"1\" class=\"dataframe\">\n",
       "  <thead>\n",
       "    <tr style=\"text-align: right;\">\n",
       "      <th></th>\n",
       "      <th>name</th>\n",
       "      <th>source</th>\n",
       "      <th>data</th>\n",
       "    </tr>\n",
       "  </thead>\n",
       "  <tbody>\n",
       "    <tr>\n",
       "      <th>0</th>\n",
       "      <td>NaN</td>\n",
       "      <td>NaN</td>\n",
       "      <td>NaN</td>\n",
       "    </tr>\n",
       "    <tr>\n",
       "      <th>1</th>\n",
       "      <td>Skytrofa</td>\n",
       "      <td>wikipedia</td>\n",
       "      <td>Page: Lonapegsomatropin\\nSummary: Lonapegsomat...</td>\n",
       "    </tr>\n",
       "    <tr>\n",
       "      <th>2</th>\n",
       "      <td>Sogroya</td>\n",
       "      <td>wikipedia</td>\n",
       "      <td>Page: Somapacitan\\nSummary: Somapacitan, sold ...</td>\n",
       "    </tr>\n",
       "    <tr>\n",
       "      <th>3</th>\n",
       "      <td>ngenla</td>\n",
       "      <td>wikipedia</td>\n",
       "      <td>Page: Somatrogon\\nSummary: Somatrogon, sold un...</td>\n",
       "    </tr>\n",
       "    <tr>\n",
       "      <th>4</th>\n",
       "      <td>MOD-4023</td>\n",
       "      <td>wikipedia</td>\n",
       "      <td>Page: Ibutamoren\\nSummary: Ibutamoren (INN) (d...</td>\n",
       "    </tr>\n",
       "    <tr>\n",
       "      <th>5</th>\n",
       "      <td>Nutropin AQ</td>\n",
       "      <td>wikipedia</td>\n",
       "      <td>Page: Growth hormone\\nSummary: Growth hormone ...</td>\n",
       "    </tr>\n",
       "    <tr>\n",
       "      <th>6</th>\n",
       "      <td>somavaratan</td>\n",
       "      <td>wikipedia</td>\n",
       "      <td>Page: Adenosine\\nSummary: Adenosine (symbol A)...</td>\n",
       "    </tr>\n",
       "    <tr>\n",
       "      <th>7</th>\n",
       "      <td>LUM-201</td>\n",
       "      <td>wikipedia</td>\n",
       "      <td>Page: Ibutamoren\\nSummary: Ibutamoren (INN) (d...</td>\n",
       "    </tr>\n",
       "    <tr>\n",
       "      <th>8</th>\n",
       "      <td>AEZS-130</td>\n",
       "      <td>wikipedia</td>\n",
       "      <td>Page: Growth hormone secretagogue\\nSummary: Gr...</td>\n",
       "    </tr>\n",
       "    <tr>\n",
       "      <th>9</th>\n",
       "      <td>somapacitan</td>\n",
       "      <td>wikipedia</td>\n",
       "      <td>Page: Somapacitan\\nSummary: Somapacitan, sold ...</td>\n",
       "    </tr>\n",
       "    <tr>\n",
       "      <th>10</th>\n",
       "      <td>New Genotropin Pen</td>\n",
       "      <td>wikipedia</td>\n",
       "      <td>Page: List of whistleblowers\\nSummary: This is...</td>\n",
       "    </tr>\n",
       "    <tr>\n",
       "      <th>11</th>\n",
       "      <td>Genotropin</td>\n",
       "      <td>wikipedia</td>\n",
       "      <td>Page: Growth hormone therapy\\nSummary: Growth ...</td>\n",
       "    </tr>\n",
       "    <tr>\n",
       "      <th>12</th>\n",
       "      <td>VRS-317</td>\n",
       "      <td>wikipedia</td>\n",
       "      <td>Page: Bosnian War\\nSummary: The Bosnian War   ...</td>\n",
       "    </tr>\n",
       "    <tr>\n",
       "      <th>13</th>\n",
       "      <td>Somatropin</td>\n",
       "      <td>wikipedia</td>\n",
       "      <td>Page: Growth hormone therapy\\nSummary: Growth ...</td>\n",
       "    </tr>\n",
       "    <tr>\n",
       "      <th>14</th>\n",
       "      <td>Lonapegsomatropin</td>\n",
       "      <td>wikipedia</td>\n",
       "      <td>Page: Lonapegsomatropin\\nSummary: Lonapegsomat...</td>\n",
       "    </tr>\n",
       "    <tr>\n",
       "      <th>15</th>\n",
       "      <td>Macimorelin</td>\n",
       "      <td>wikipedia</td>\n",
       "      <td>Page: Macimorelin\\nSummary: Macimorelin (INN) ...</td>\n",
       "    </tr>\n",
       "    <tr>\n",
       "      <th>16</th>\n",
       "      <td>Nutropin</td>\n",
       "      <td>wikipedia</td>\n",
       "      <td>Page: Growth hormone therapy\\nSummary: Growth ...</td>\n",
       "    </tr>\n",
       "    <tr>\n",
       "      <th>17</th>\n",
       "      <td>Teva TV-1106</td>\n",
       "      <td>wikipedia</td>\n",
       "      <td>Page: List of Eurovision Song Contest entries ...</td>\n",
       "    </tr>\n",
       "  </tbody>\n",
       "</table>\n",
       "</div>"
      ],
      "text/plain": [
       "                  name     source  \\\n",
       "0                  NaN        NaN   \n",
       "1             Skytrofa  wikipedia   \n",
       "2              Sogroya  wikipedia   \n",
       "3               ngenla  wikipedia   \n",
       "4             MOD-4023  wikipedia   \n",
       "5          Nutropin AQ  wikipedia   \n",
       "6          somavaratan  wikipedia   \n",
       "7              LUM-201  wikipedia   \n",
       "8             AEZS-130  wikipedia   \n",
       "9          somapacitan  wikipedia   \n",
       "10  New Genotropin Pen  wikipedia   \n",
       "11          Genotropin  wikipedia   \n",
       "12             VRS-317  wikipedia   \n",
       "13          Somatropin  wikipedia   \n",
       "14   Lonapegsomatropin  wikipedia   \n",
       "15         Macimorelin  wikipedia   \n",
       "16            Nutropin  wikipedia   \n",
       "17        Teva TV-1106  wikipedia   \n",
       "\n",
       "                                                 data  \n",
       "0                                                 NaN  \n",
       "1   Page: Lonapegsomatropin\\nSummary: Lonapegsomat...  \n",
       "2   Page: Somapacitan\\nSummary: Somapacitan, sold ...  \n",
       "3   Page: Somatrogon\\nSummary: Somatrogon, sold un...  \n",
       "4   Page: Ibutamoren\\nSummary: Ibutamoren (INN) (d...  \n",
       "5   Page: Growth hormone\\nSummary: Growth hormone ...  \n",
       "6   Page: Adenosine\\nSummary: Adenosine (symbol A)...  \n",
       "7   Page: Ibutamoren\\nSummary: Ibutamoren (INN) (d...  \n",
       "8   Page: Growth hormone secretagogue\\nSummary: Gr...  \n",
       "9   Page: Somapacitan\\nSummary: Somapacitan, sold ...  \n",
       "10  Page: List of whistleblowers\\nSummary: This is...  \n",
       "11  Page: Growth hormone therapy\\nSummary: Growth ...  \n",
       "12  Page: Bosnian War\\nSummary: The Bosnian War   ...  \n",
       "13  Page: Growth hormone therapy\\nSummary: Growth ...  \n",
       "14  Page: Lonapegsomatropin\\nSummary: Lonapegsomat...  \n",
       "15  Page: Macimorelin\\nSummary: Macimorelin (INN) ...  \n",
       "16  Page: Growth hormone therapy\\nSummary: Growth ...  \n",
       "17  Page: List of Eurovision Song Contest entries ...  "
      ]
     },
     "execution_count": 38,
     "metadata": {},
     "output_type": "execute_result"
    }
   ],
   "source": [
    "for row in get_data(brand_name):\n",
    "    print(row)\n",
    "get_data(brand_name)"
   ]
  },
  {
   "cell_type": "code",
   "execution_count": 7,
   "metadata": {},
   "outputs": [
    {
     "ename": "NameError",
     "evalue": "name 'df_brands' is not defined",
     "output_type": "error",
     "traceback": [
      "\u001b[0;31m---------------------------------------------------------------------------\u001b[0m",
      "\u001b[0;31mNameError\u001b[0m                                 Traceback (most recent call last)",
      "Cell \u001b[0;32mIn[7], line 1\u001b[0m\n\u001b[0;32m----> 1\u001b[0m df_brands\n",
      "\u001b[0;31mNameError\u001b[0m: name 'df_brands' is not defined"
     ]
    }
   ],
   "source": [
    "df_brands"
   ]
  },
  {
   "cell_type": "code",
   "execution_count": null,
   "metadata": {},
   "outputs": [],
   "source": []
  }
 ],
 "metadata": {
  "kernelspec": {
   "display_name": "Python 3",
   "language": "python",
   "name": "python3"
  },
  "language_info": {
   "codemirror_mode": {
    "name": "ipython",
    "version": 3
   },
   "file_extension": ".py",
   "mimetype": "text/x-python",
   "name": "python",
   "nbconvert_exporter": "python",
   "pygments_lexer": "ipython3",
   "version": "3.11.4"
  },
  "orig_nbformat": 4
 },
 "nbformat": 4,
 "nbformat_minor": 2
}
