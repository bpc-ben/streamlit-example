{
 "cells": [
  {
   "cell_type": "code",
   "execution_count": 2,
   "metadata": {},
   "outputs": [],
   "source": [
    "from langchain.llms import OpenAI\n",
    "from langchain.chains import LLMChain\n",
    "from langchain.prompts import PromptTemplate"
   ]
  },
  {
   "cell_type": "code",
   "execution_count": 3,
   "metadata": {},
   "outputs": [],
   "source": [
    "# This is an LLMChain to write a synopsis given a title of a play.\n",
    "llm = OpenAI(temperature=.7)\n",
    "template = \"\"\"You are a playwright. Given the title of play, it is your job to write a synopsis for that title.\n",
    "\n",
    "Title: {title}\n",
    "Playwright: This is a synopsis for the above play:\"\"\"\n",
    "prompt_template = PromptTemplate(input_variables=[\"title\"], template=template)\n",
    "synopsis_chain = LLMChain(llm=llm, prompt=prompt_template)"
   ]
  },
  {
   "cell_type": "code",
   "execution_count": 7,
   "metadata": {},
   "outputs": [],
   "source": [
    "# This is an LLMChain to write a review of a play given a synopsis.\n",
    "llm = OpenAI(temperature=.7)\n",
    "template = \"\"\"You are a play critic from the New York Times. Given the synopsis of play, it is your job to write a review for that play. Include recommendations for improvement.\n",
    "\n",
    "Play Synopsis:\n",
    "{synopsis}\n",
    "Review from a New York Times play critic of the above play:\"\"\"\n",
    "prompt_template = PromptTemplate(input_variables=[\"synopsis\"], template=template)\n",
    "review_chain = LLMChain(llm=llm, prompt=prompt_template)"
   ]
  },
  {
   "cell_type": "code",
   "execution_count": 10,
   "metadata": {},
   "outputs": [],
   "source": [
    "llm = OpenAI(temperature=.7)\n",
    "template = \"\"\"You are a playwright from the New York Times. Given the synopsis of play and a critic's review of the play, it is your job to rewrite the synopsis for that play based on the critic's recommendations for improvement.\n",
    "\n",
    "Play Synopsis:\n",
    "{synopsis}\n",
    "Review from a New York Times play critic of the above play:\"\"\"\n",
    "prompt_template = PromptTemplate(input_variables=[\"synopsis\"], template=template)\n",
    "revision_chain = LLMChain(llm=llm, prompt=prompt_template)"
   ]
  },
  {
   "cell_type": "code",
   "execution_count": 11,
   "metadata": {},
   "outputs": [],
   "source": [
    "# This is the overall chain where we run these two chains in sequence.\n",
    "from langchain.chains import SimpleSequentialChain\n",
    "overall_chain = SimpleSequentialChain(chains=[synopsis_chain, review_chain,revision_chain], verbose=True)"
   ]
  },
  {
   "cell_type": "code",
   "execution_count": 12,
   "metadata": {},
   "outputs": [
    {
     "name": "stdout",
     "output_type": "stream",
     "text": [
      "\n",
      "\n",
      "\u001b[1m> Entering new SimpleSequentialChain chain...\u001b[0m\n",
      "\u001b[36;1m\u001b[1;3m \n",
      "\n",
      "The play, 'Tragedy at sunset on the beach', is set in a picturesque beach town and follows the lives of two couples who are struggling to make ends meet and keep their relationships alive. \n",
      "\n",
      "The first couple, Sam and Marie, are young and in love, and spend their days walking on the beach and talking about their dreams. Despite their love for each other, Sam's job has been cut and the couple is struggling to make ends meet. \n",
      "\n",
      "The second couple, Jack and Jill, are much older and have been together for many years. They have a comfortable life, but their relationship is strained. Jack is distant and often has late nights out, and Jill is worried that he may be having an affair. \n",
      "\n",
      "The two couples cross paths one day at sunset on the beach, and the play follows their stories as they try to find the courage to confront their fears and struggles. As the sun sets, tragedy strikes and the couples are forced to confront their deepest fears and secrets in a heartbreaking and powerful climax.\u001b[0m\n",
      "\u001b[33;1m\u001b[1;3m\n",
      "\n",
      "'Tragedy at Sunset on the Beach' is an emotionally powerful and heartbreaking story, exploring the struggles of two couples trying to make ends meet and keep their relationships alive. The play features a compelling cast of characters, and the audience is able to empathize with their struggles and relate to their fears. The climax of the play is particularly powerful, and leaves the audience in tears. \n",
      "\n",
      "However, the play could have been improved by providing more depth to the characters and their relationships. The audience is given a lot of information about the couples, but there is not enough time to fully explore their motivations and decisions. Additionally, the dialogue could have been more natural and less contrived, and the ending could have been more subtle and less melodramatic. \n",
      "\n",
      "Overall, 'Tragedy at Sunset on the Beach' is an emotionally powerful play that is sure to move the audience. With some adjustments, this play could be even more powerful and effective.\u001b[0m\n",
      "\u001b[38;5;200m\u001b[1;3m \n",
      "\n",
      "\"Tragedy at Sunset on the Beach\" is an emotionally powerful and heartbreaking story that pulls at the heartstrings of the audience. The play follows two couples struggling to keep their relationships alive amidst financial difficulties and other hardships. While the characters are compelling, the play could have been improved with more depth and natural dialogue. Additionally, the ending could have been more subtle rather than melodramatic.\n",
      "\n",
      "Revised Play Synopsis:\n",
      "\n",
      "'Tragedy at Sunset on the Beach' is an emotionally powerful and heartbreaking story, exploring the struggles of two couples trying to make ends meet and keep their relationships alive. The play features a compelling cast of characters, and the audience is able to empathize with their struggles and relate to their fears. The audience is given an opportunity to explore the motivations and decisions of the characters, as well as the complexities of their relationships. The dialogue is natural and realistic, allowing for an even more compelling story. The climax of the play is particularly powerful, yet subtle, leaving the audience in awe and tears. \n",
      "\n",
      "Overall, 'Tragedy at Sunset on the Beach' is an emotionally powerful play sure to leave a lasting impression on the audience. With its compelling characters, natural dialogue, and subtle yet powerful\u001b[0m\n",
      "\n",
      "\u001b[1m> Finished chain.\u001b[0m\n"
     ]
    }
   ],
   "source": [
    "review = overall_chain.run(\"Tragedy at sunset on the beach\")"
   ]
  }
 ],
 "metadata": {
  "kernelspec": {
   "display_name": "Python 3",
   "language": "python",
   "name": "python3"
  },
  "language_info": {
   "codemirror_mode": {
    "name": "ipython",
    "version": 3
   },
   "file_extension": ".py",
   "mimetype": "text/x-python",
   "name": "python",
   "nbconvert_exporter": "python",
   "pygments_lexer": "ipython3",
   "version": "3.11.4"
  },
  "orig_nbformat": 4
 },
 "nbformat": 4,
 "nbformat_minor": 2
}
